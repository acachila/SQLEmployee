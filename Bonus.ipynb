{
 "cells": [
  {
   "cell_type": "code",
   "execution_count": null,
   "metadata": {},
   "outputs": [],
   "source": [
    "import pandas as pd\n",
    "import numpy as np\n",
    "import matplotlib.pyplot as plt\n",
    "from sqlalchemy import create_engine\n",
    "from database import user_name, password, host, data_base"
   ]
  },
  {
   "cell_type": "code",
   "execution_count": null,
   "metadata": {},
   "outputs": [],
   "source": [
    "# Create Engine and Pass in PostgreSQL Connection\n",
    "engine = create_engine(f'postgresql://{user_name}:{password}@{host}/{data_base}')\n",
    "connection = engine.connect()\n"
   ]
  },
  {
   "cell_type": "code",
   "execution_count": null,
   "metadata": {},
   "outputs": [],
   "source": [
    "# Query Table Salary in the the Database\n",
    "salaries = pd.read_sql(\"SELECT * FROM salaries\", connection)\n",
    "salaries.head()"
   ]
  },
  {
   "cell_type": "code",
   "execution_count": null,
   "metadata": {},
   "outputs": [],
   "source": [
    "# Query Table Titles in the the Database\n",
    "titles = pd.read_sql(\"SELECT * FROM titles\", connection)\n",
    "titles.head()"
   ]
  },
  {
   "cell_type": "code",
   "execution_count": null,
   "metadata": {},
   "outputs": [],
   "source": [
    "# Query list employees' numbers and their corresponding titles and salaries in the the Database\n",
    "employees_title_salary = pd.read_sql(\"SELECT e.emp_no, t.title, s.salary \\\n",
    "                         FROM employees e \\\n",
    "                         RIGHT JOIN titles t\\\n",
    "                         ON (e.emp_no = t.emp_no)\\\n",
    "                         RIGHT JOIN salaries s\\\n",
    "                         ON (t.emp_no = s.emp_no)\", connection)\n",
    "employees_title_salary.head()"
   ]
  },
  {
   "cell_type": "code",
   "execution_count": null,
   "metadata": {},
   "outputs": [],
   "source": [
    "# Create a DataFrame with the average salary for each title. \n",
    "avg_salary_each_title = pd.DataFrame(employees_title_salary.groupby([\"title\"]).mean()[\"salary\"]).reset_index()"
   ]
  },
  {
   "cell_type": "code",
   "execution_count": null,
   "metadata": {},
   "outputs": [],
   "source": [
    "# Use Matplotlib to create a bar chart \n",
    "plt.bar(np.arange(len(avg_salary_each_title)), avg_salary_each_title.salary, align = \"center\")\n",
    "plt.xticks([lable for lable in np.arange(len(avg_salary_each_title))], avg_salary_each_title[\"title\"],\n",
    "           rotation = 25)\n",
    "plt.title(\"Average Salary for Each Title\")\n",
    "plt.xlabel(\"Titles\")\n",
    "plt.ylabel(\"Average salaries\")"
   ]
  },
  {
   "cell_type": "code",
   "execution_count": null,
   "metadata": {},
   "outputs": [],
   "source": [
    "# Get information of employee's title and his salary regarding his employee's number. \n",
    "employees_title_salary.loc[employees_title_salary[\"emp_no\"] == 499942]"
   ]
  }
 ],
 "metadata": {
  "kernelspec": {
   "display_name": "Python 3",
   "language": "python",
   "name": "python3"
  },
  "language_info": {
   "codemirror_mode": {
    "name": "ipython",
    "version": 3
   },
   "file_extension": ".py",
   "mimetype": "text/x-python",
   "name": "python",
   "nbconvert_exporter": "python",
   "pygments_lexer": "ipython3",
   "version": "3.7.3"
  }
 },
 "nbformat": 4,
 "nbformat_minor": 2
}
